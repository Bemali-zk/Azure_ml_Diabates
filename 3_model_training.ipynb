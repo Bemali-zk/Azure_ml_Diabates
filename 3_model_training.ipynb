{
  "cells": [
    {
      "cell_type": "code",
      "source": [
        "import os\n",
        "\n",
        "# create a folder for the script files\n",
        "script_folder = 'src'\n",
        "os.makedirs(script_folder, exist_ok=True)\n",
        "print(script_folder, 'folder created')"
      ],
      "outputs": [
        {
          "output_type": "stream",
          "name": "stdout",
          "text": "src folder created\n"
        }
      ],
      "execution_count": 1,
      "metadata": {
        "gather": {
          "logged": 1719886649376
        }
      }
    },
    {
      "cell_type": "code",
      "source": [
        "\n",
        "import pandas as pd\n",
        "from azure.ai.ml import MLClient\n",
        "from azure.identity import DefaultAzureCredential\n",
        "\n",
        "ml_client = MLClient.from_config(credential=DefaultAzureCredential())\n",
        "data_asset = ml_client.data.get(\"diabates_pre_processed\", version=\"1\")\n",
        "\n",
        "df = pd.read_csv(data_asset.path)\n",
        "df"
      ],
      "outputs": [
        {
          "output_type": "stream",
          "name": "stderr",
          "text": "Found the config file in: /config.json\n"
        },
        {
          "output_type": "execute_result",
          "execution_count": 5,
          "data": {
            "text/plain": "            age  hypertension  heart_disease       bmi  HbA1c_level  \\\n0      1.692704             0              1 -0.321056     1.001706   \n1      0.538006             0              0 -0.000116     1.001706   \n2     -0.616691             0              0 -0.000116     0.161108   \n3     -0.261399             0              0 -0.583232    -0.492690   \n4      1.515058             1              1 -1.081970    -0.679490   \n...         ...           ...            ...       ...          ...   \n99995  1.692704             0              0 -0.000116     0.628107   \n99996 -1.771388             0              0 -1.499343     0.908306   \n99997  1.070944             0              0  0.076729     0.161108   \n99998 -0.794336             0              0  1.220361    -1.426688   \n99999  0.671241             0              0 -0.736922     1.001706   \n\n       blood_glucose_level  diabetes  gender_Male  gender_Other  \\\n0                 0.047704         0            0             0   \n1                -1.426210         0            0             0   \n2                 0.489878         0            1             0   \n3                 0.416183         0            0             0   \n4                 0.416183         0            1             0   \n...                    ...       ...          ...           ...   \n99995            -1.180558         0            0             0   \n99996            -0.934905         0            0             0   \n99997             0.416183         0            1             0   \n99998            -0.934905         0            0             0   \n99999            -1.180558         0            0             0   \n\n       smoking_history_current  smoking_history_ever  smoking_history_former  \\\n0                            0                     0                       0   \n1                            0                     0                       0   \n2                            0                     0                       0   \n3                            1                     0                       0   \n4                            1                     0                       0   \n...                        ...                   ...                     ...   \n99995                        0                     0                       0   \n99996                        0                     0                       0   \n99997                        0                     0                       1   \n99998                        0                     0                       0   \n99999                        1                     0                       0   \n\n       smoking_history_never  smoking_history_not current  \n0                          1                            0  \n1                          0                            0  \n2                          1                            0  \n3                          0                            0  \n4                          0                            0  \n...                      ...                          ...  \n99995                      0                            0  \n99996                      0                            0  \n99997                      0                            0  \n99998                      1                            0  \n99999                      0                            0  \n\n[100000 rows x 14 columns]",
            "text/html": "<div>\n<style scoped>\n    .dataframe tbody tr th:only-of-type {\n        vertical-align: middle;\n    }\n\n    .dataframe tbody tr th {\n        vertical-align: top;\n    }\n\n    .dataframe thead th {\n        text-align: right;\n    }\n</style>\n<table border=\"1\" class=\"dataframe\">\n  <thead>\n    <tr style=\"text-align: right;\">\n      <th></th>\n      <th>age</th>\n      <th>hypertension</th>\n      <th>heart_disease</th>\n      <th>bmi</th>\n      <th>HbA1c_level</th>\n      <th>blood_glucose_level</th>\n      <th>diabetes</th>\n      <th>gender_Male</th>\n      <th>gender_Other</th>\n      <th>smoking_history_current</th>\n      <th>smoking_history_ever</th>\n      <th>smoking_history_former</th>\n      <th>smoking_history_never</th>\n      <th>smoking_history_not current</th>\n    </tr>\n  </thead>\n  <tbody>\n    <tr>\n      <th>0</th>\n      <td>1.692704</td>\n      <td>0</td>\n      <td>1</td>\n      <td>-0.321056</td>\n      <td>1.001706</td>\n      <td>0.047704</td>\n      <td>0</td>\n      <td>0</td>\n      <td>0</td>\n      <td>0</td>\n      <td>0</td>\n      <td>0</td>\n      <td>1</td>\n      <td>0</td>\n    </tr>\n    <tr>\n      <th>1</th>\n      <td>0.538006</td>\n      <td>0</td>\n      <td>0</td>\n      <td>-0.000116</td>\n      <td>1.001706</td>\n      <td>-1.426210</td>\n      <td>0</td>\n      <td>0</td>\n      <td>0</td>\n      <td>0</td>\n      <td>0</td>\n      <td>0</td>\n      <td>0</td>\n      <td>0</td>\n    </tr>\n    <tr>\n      <th>2</th>\n      <td>-0.616691</td>\n      <td>0</td>\n      <td>0</td>\n      <td>-0.000116</td>\n      <td>0.161108</td>\n      <td>0.489878</td>\n      <td>0</td>\n      <td>1</td>\n      <td>0</td>\n      <td>0</td>\n      <td>0</td>\n      <td>0</td>\n      <td>1</td>\n      <td>0</td>\n    </tr>\n    <tr>\n      <th>3</th>\n      <td>-0.261399</td>\n      <td>0</td>\n      <td>0</td>\n      <td>-0.583232</td>\n      <td>-0.492690</td>\n      <td>0.416183</td>\n      <td>0</td>\n      <td>0</td>\n      <td>0</td>\n      <td>1</td>\n      <td>0</td>\n      <td>0</td>\n      <td>0</td>\n      <td>0</td>\n    </tr>\n    <tr>\n      <th>4</th>\n      <td>1.515058</td>\n      <td>1</td>\n      <td>1</td>\n      <td>-1.081970</td>\n      <td>-0.679490</td>\n      <td>0.416183</td>\n      <td>0</td>\n      <td>1</td>\n      <td>0</td>\n      <td>1</td>\n      <td>0</td>\n      <td>0</td>\n      <td>0</td>\n      <td>0</td>\n    </tr>\n    <tr>\n      <th>...</th>\n      <td>...</td>\n      <td>...</td>\n      <td>...</td>\n      <td>...</td>\n      <td>...</td>\n      <td>...</td>\n      <td>...</td>\n      <td>...</td>\n      <td>...</td>\n      <td>...</td>\n      <td>...</td>\n      <td>...</td>\n      <td>...</td>\n      <td>...</td>\n    </tr>\n    <tr>\n      <th>99995</th>\n      <td>1.692704</td>\n      <td>0</td>\n      <td>0</td>\n      <td>-0.000116</td>\n      <td>0.628107</td>\n      <td>-1.180558</td>\n      <td>0</td>\n      <td>0</td>\n      <td>0</td>\n      <td>0</td>\n      <td>0</td>\n      <td>0</td>\n      <td>0</td>\n      <td>0</td>\n    </tr>\n    <tr>\n      <th>99996</th>\n      <td>-1.771388</td>\n      <td>0</td>\n      <td>0</td>\n      <td>-1.499343</td>\n      <td>0.908306</td>\n      <td>-0.934905</td>\n      <td>0</td>\n      <td>0</td>\n      <td>0</td>\n      <td>0</td>\n      <td>0</td>\n      <td>0</td>\n      <td>0</td>\n      <td>0</td>\n    </tr>\n    <tr>\n      <th>99997</th>\n      <td>1.070944</td>\n      <td>0</td>\n      <td>0</td>\n      <td>0.076729</td>\n      <td>0.161108</td>\n      <td>0.416183</td>\n      <td>0</td>\n      <td>1</td>\n      <td>0</td>\n      <td>0</td>\n      <td>0</td>\n      <td>1</td>\n      <td>0</td>\n      <td>0</td>\n    </tr>\n    <tr>\n      <th>99998</th>\n      <td>-0.794336</td>\n      <td>0</td>\n      <td>0</td>\n      <td>1.220361</td>\n      <td>-1.426688</td>\n      <td>-0.934905</td>\n      <td>0</td>\n      <td>0</td>\n      <td>0</td>\n      <td>0</td>\n      <td>0</td>\n      <td>0</td>\n      <td>1</td>\n      <td>0</td>\n    </tr>\n    <tr>\n      <th>99999</th>\n      <td>0.671241</td>\n      <td>0</td>\n      <td>0</td>\n      <td>-0.736922</td>\n      <td>1.001706</td>\n      <td>-1.180558</td>\n      <td>0</td>\n      <td>0</td>\n      <td>0</td>\n      <td>1</td>\n      <td>0</td>\n      <td>0</td>\n      <td>0</td>\n      <td>0</td>\n    </tr>\n  </tbody>\n</table>\n<p>100000 rows × 14 columns</p>\n</div>"
          },
          "metadata": {}
        }
      ],
      "execution_count": 5,
      "metadata": {
        "jupyter": {
          "source_hidden": false,
          "outputs_hidden": false
        },
        "nteract": {
          "transient": {
            "deleting": false
          }
        },
        "gather": {
          "logged": 1719886700060
        }
      }
    },
    {
      "cell_type": "code",
      "source": [
        "%%writefile $script_folder/train-model-mlflow.py\n",
        "# import libraries\n",
        "import mlflow\n",
        "import argparse\n",
        "import pandas as pd\n",
        "import numpy as np\n",
        "from sklearn.model_selection import train_test_split\n",
        "from sklearn.linear_model import LogisticRegression\n",
        "from sklearn.metrics import roc_auc_score\n",
        "from sklearn.metrics import roc_curve\n",
        "import matplotlib.pyplot as plt\n",
        "\n",
        "def main(args):\n",
        "    # read data\n",
        "    df = get_data(args.training_data)\n",
        "\n",
        "    # feature selection and split data\n",
        "    feature_list = ['age','hypertension','heart_disease','bmi','HbA1c_level','blood_glucose_level']\n",
        "    X_train, X_test, y_train, y_test = split_data(df, feature_list)\n",
        "\n",
        "    # train model\n",
        "    model = train_model(args.reg_rate, X_train, X_test, y_train, y_test)\n",
        "\n",
        "    # evaluate model\n",
        "    eval_model(model, X_test, y_test)\n",
        "\n",
        "   \n",
        "\n",
        "def get_data(path):\n",
        "    print(\"Reading data...\")\n",
        "    df = pd.read_csv(path)\n",
        "    return df\n",
        "\n",
        "def split_data(df, feature_list):\n",
        "    print(\"Splitting data...\")\n",
        "    X, y = df[feature_list].values, df['diabetes'].values\n",
        "    X_train, X_test, y_train, y_test = train_test_split(X, y, test_size=0.30, random_state=0)\n",
        "    return X_train, X_test, y_train, y_test\n",
        "\n",
        "def train_model(reg_rate, X_train, X_test, y_train, y_test):\n",
        "    mlflow.log_param(\"Regularization rate\", reg_rate)\n",
        "    print(\"Training model...\")\n",
        "    model = LogisticRegression(C=1/reg_rate, solver=\"liblinear\").fit(X_train, y_train)\n",
        "    mlflow.sklearn.save_model(model, args.model_output)\n",
        "    return model\n",
        "\n",
        "def eval_model(model, X_test, y_test):\n",
        "    y_hat = model.predict(X_test)\n",
        "    acc = np.average(y_hat == y_test)\n",
        "    print('Accuracy:', acc)\n",
        "    mlflow.log_metric(\"Accuracy\", acc)\n",
        "\n",
        "    y_scores = model.predict_proba(X_test)\n",
        "    auc = roc_auc_score(y_test, y_scores[:,1])\n",
        "    print('AUC: ' + str(auc))\n",
        "    mlflow.log_metric(\"AUC\", auc)\n",
        "\n",
        "    # plot ROC curve and log as an artifact\n",
        "    plot_roc_curve(y_test, y_scores)\n",
        "\n",
        "def plot_roc_curve(y_test, y_scores):\n",
        "    fpr, tpr, thresholds = roc_curve(y_test, y_scores[:,1])\n",
        "    fig = plt.figure(figsize=(6, 4))\n",
        "    plt.plot([0, 1], [0, 1], 'k--')\n",
        "    plt.plot(fpr, tpr)\n",
        "    plt.xlabel('False Positive Rate')\n",
        "    plt.ylabel('True Positive Rate')\n",
        "    plt.title('ROC Curve')\n",
        "    roc_curve_path = \"ROC-Curve.png\"\n",
        "    plt.savefig(roc_curve_path)\n",
        "    mlflow.log_artifact(roc_curve_path)\n",
        "    plt.close(fig)\n",
        "\n",
        "def log_model(model):\n",
        "    mlflow.sklearn.log_model(model, \"model\")\n",
        "\n",
        "def parse_args():\n",
        "    parser = argparse.ArgumentParser()\n",
        "    parser.add_argument(\"--training_data\", dest='training_data', type=str)\n",
        "    parser.add_argument(\"--reg_rate\", dest='reg_rate', type=float, default=0.01)\n",
        "    parser.add_argument(\"--model_output\", dest='model_output',\n",
        "                        type=str)\n",
        "\n",
        "    args = parser.parse_args()\n",
        "    return args\n",
        "\n",
        "if __name__ == \"__main__\":\n",
        "    print(\"\\n\\n\")\n",
        "    print(\"*\" * 60)\n",
        "    args = parse_args()\n",
        "    main(args)\n",
        "    print(\"*\" * 60)\n",
        "    print(\"\\n\\n\")\n"
      ],
      "outputs": [
        {
          "output_type": "stream",
          "name": "stdout",
          "text": "Overwriting src/train-model-mlflow.py\n"
        }
      ],
      "execution_count": 7,
      "metadata": {
        "jupyter": {
          "source_hidden": false,
          "outputs_hidden": false
        },
        "nteract": {
          "transient": {
            "deleting": false
          }
        }
      }
    },
    {
      "cell_type": "code",
      "source": [
        "from azure.ai.ml import MLClient, command, Input, Output\n",
        "from azure.ai.ml.constants import AssetTypes, InputOutputModes\n",
        "from azure.identity import DefaultAzureCredential\n",
        "\n",
        "# Initialize MLClient using DefaultAzureCredential\n",
        "ml_client = MLClient.from_config(credential=DefaultAzureCredential())\n",
        "\n",
        "# Get the dataset asset from Azure ML workspace\n",
        "data_asset = ml_client.data.get(\"diabates_pre_processed\", version=\"1\")\n",
        "\n",
        "# configure job\n",
        "\n",
        "job = command(\n",
        "    code =\"./src\",# Path where the preprocess.py script is located\n",
        "    command='python train-model-mlflow.py --training_data \"${{inputs.data}}\" --model_output \"${{outputs.model_output}}\"',\n",
        "    inputs={\n",
        "        \"data\": Input(\n",
        "            path=data_asset.id,\n",
        "            type=AssetTypes.URI_FILE,\n",
        "            mode=InputOutputModes.RO_MOUNT\n",
        "        )\n",
        "    },\n",
        "    outputs={\n",
        "        \"model_output\": Output(\n",
        "            type=AssetTypes.MLFLOW_MODEL\n",
        "        )\n",
        "    },\n",
        "\n",
        "    \n",
        "    environment=\"test-env-azureml:1\",# Ensure this environment has all required dependencies\n",
        "    compute=\"test-compute-1-mlstudio\",)\n",
        "      \n",
        "\n",
        "\n",
        "# submit job\n",
        "returned_job = ml_client.create_or_update(job)\n",
        "aml_url = returned_job.studio_url\n",
        "print(\"Monitor your job at\", aml_url)"
      ],
      "outputs": [
        {
          "output_type": "stream",
          "name": "stderr",
          "text": "Found the config file in: /config.json\nClass AutoDeleteSettingSchema: This is an experimental class, and may change at any time. Please see https://aka.ms/azuremlexperimental for more information.\nClass AutoDeleteConditionSchema: This is an experimental class, and may change at any time. Please see https://aka.ms/azuremlexperimental for more information.\nClass BaseAutoDeleteSettingSchema: This is an experimental class, and may change at any time. Please see https://aka.ms/azuremlexperimental for more information.\nClass IntellectualPropertySchema: This is an experimental class, and may change at any time. Please see https://aka.ms/azuremlexperimental for more information.\nClass ProtectionLevelSchema: This is an experimental class, and may change at any time. Please see https://aka.ms/azuremlexperimental for more information.\nClass BaseIntellectualPropertySchema: This is an experimental class, and may change at any time. Please see https://aka.ms/azuremlexperimental for more information.\n\u001b[32mUploading src (0.0 MBs): 100%|██████████| 4918/4918 [00:00<00:00, 59107.88it/s]\n\u001b[39m\n\n"
        },
        {
          "output_type": "stream",
          "name": "stdout",
          "text": "Monitor your job at https://ml.azure.com/runs/loyal_queen_dfkryhzlk7?wsid=/subscriptions/3b7a65ed-df6d-4020-9010-5585f2149752/resourcegroups/rg-test-1/workspaces/mlstudio-test-1&tid=dc0b52a3-68c5-44f7-881d-9383d8850b96\n"
        }
      ],
      "execution_count": 8,
      "metadata": {
        "jupyter": {
          "source_hidden": false,
          "outputs_hidden": false
        },
        "nteract": {
          "transient": {
            "deleting": false
          }
        },
        "gather": {
          "logged": 1719886721390
        }
      }
    }
  ],
  "metadata": {
    "kernelspec": {
      "name": "python310-sdkv2",
      "language": "python",
      "display_name": "Python 3.10 - SDK v2"
    },
    "language_info": {
      "name": "python",
      "version": "3.10.11",
      "mimetype": "text/x-python",
      "codemirror_mode": {
        "name": "ipython",
        "version": 3
      },
      "pygments_lexer": "ipython3",
      "nbconvert_exporter": "python",
      "file_extension": ".py"
    },
    "microsoft": {
      "ms_spell_check": {
        "ms_spell_check_language": "en"
      },
      "host": {
        "AzureML": {
          "notebookHasBeenCompleted": true
        }
      }
    },
    "kernel_info": {
      "name": "python310-sdkv2"
    },
    "nteract": {
      "version": "nteract-front-end@1.0.0"
    }
  },
  "nbformat": 4,
  "nbformat_minor": 2
}