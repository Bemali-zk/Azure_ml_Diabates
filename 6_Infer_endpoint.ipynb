{
  "cells": [
    {
      "cell_type": "code",
      "source": [
        "import urllib.request\n",
        "import json\n",
        "import os\n",
        "import ssl\n",
        "import pandas as pd\n",
        "\n",
        "def allowSelfSignedHttps(allowed):\n",
        "    # bypass the server certificate verification on client side\n",
        "    if allowed and not os.environ.get('PYTHONHTTPSVERIFY', '') and getattr(ssl, '_create_unverified_context', None):\n",
        "        ssl._create_default_https_context = ssl._create_unverified_context\n",
        "\n",
        "\n",
        "\n",
        "def get_data(df,i):\n",
        "    features = ['age','hypertension','heart_disease','bmi','HbA1c_level','blood_glucose_level']\n",
        "    input_data = df[features].iloc[201].to_list()\n",
        "\n",
        "    data =  {\n",
        "  \"input_data\": [input_data],\n",
        "  \"params\": {}\n",
        "    }\n",
        "\n",
        "    body = str.encode(json.dumps(data))\n",
        "    return body\n",
        "\n",
        "\n",
        "\n",
        "def call_endpoint(deployment_name,url,api_key,body):\n",
        "\n",
        "    if not api_key:\n",
        "        raise Exception(\"A key should be provided to invoke the endpoint\")\n",
        "\n",
        "    headers = {'Content-Type':'application/json', 'Authorization':('Bearer '+ api_key), 'azureml-model-deployment': deployment_name }\n",
        "    req = urllib.request.Request(url, body, headers)\n",
        "\n",
        "    try:\n",
        "        response = urllib.request.urlopen(req)\n",
        "\n",
        "        result = response.read()\n",
        "        print(result)\n",
        "    except urllib.error.HTTPError as error:\n",
        "        print(\"The request failed with status code: \" + str(error.code))\n",
        "    # Print the headers - they include the requert ID and the timestamp, which are useful for debugging the failure\n",
        "        print(error.info())\n",
        "        print(error.read().decode(\"utf8\", 'ignore'))"
      ],
      "outputs": [],
      "execution_count": 28,
      "metadata": {
        "jupyter": {
          "source_hidden": false,
          "outputs_hidden": false
        },
        "nteract": {
          "transient": {
            "deleting": false
          }
        },
        "gather": {
          "logged": 1719902986807
        }
      }
    },
    {
      "cell_type": "code",
      "source": [
        "\n",
        "from azure.ai.ml import MLClient\n",
        "from azure.identity import DefaultAzureCredential\n",
        "\n",
        "ml_client = MLClient.from_config(credential=DefaultAzureCredential())\n",
        "data_asset = ml_client.data.get(\"diabates_pre_processed\", version=\"1\")\n",
        "\n",
        "df = pd.read_csv(data_asset.path)"
      ],
      "outputs": [
        {
          "output_type": "stream",
          "name": "stderr",
          "text": "Found the config file in: /config.json\n"
        }
      ],
      "execution_count": 29,
      "metadata": {
        "jupyter": {
          "source_hidden": false,
          "outputs_hidden": false
        },
        "nteract": {
          "transient": {
            "deleting": false
          }
        },
        "gather": {
          "logged": 1719902991065
        }
      }
    },
    {
      "cell_type": "code",
      "source": [
        "# this line is needed if you use self-signed certificate in your scoring service.\n",
        "allowSelfSignedHttps(True) \n",
        "\n",
        "#generate the json input to your endpoint\n",
        "body = get_data(df,309)\n",
        "\n",
        "#call the api\n",
        "deployment_name = 'diabetes-lr-1' #your deployment name here\n",
        "url = 'https://mlstudio-test-1-rsmiw.australiaeast.inference.ml.azure.com/score' #your endpoint url here\n",
        "api_key = 'jzlwWm55Sq36d7wWZUetNH8j8Ei1v6Ff' #primary or secondary API key here \n",
        "\n",
        "call_endpoint(deployment_name,url,api_key,body)"
      ],
      "outputs": [
        {
          "output_type": "stream",
          "name": "stdout",
          "text": "b'[0]'\n"
        }
      ],
      "execution_count": 30,
      "metadata": {
        "jupyter": {
          "source_hidden": false,
          "outputs_hidden": false
        },
        "nteract": {
          "transient": {
            "deleting": false
          }
        },
        "gather": {
          "logged": 1719902997721
        }
      }
    }
  ],
  "metadata": {
    "kernelspec": {
      "name": "python310-sdkv2",
      "language": "python",
      "display_name": "Python 3.10 - SDK v2"
    },
    "language_info": {
      "name": "python",
      "version": "3.10.11",
      "mimetype": "text/x-python",
      "codemirror_mode": {
        "name": "ipython",
        "version": 3
      },
      "pygments_lexer": "ipython3",
      "nbconvert_exporter": "python",
      "file_extension": ".py"
    },
    "microsoft": {
      "ms_spell_check": {
        "ms_spell_check_language": "en"
      }
    },
    "kernel_info": {
      "name": "python310-sdkv2"
    },
    "nteract": {
      "version": "nteract-front-end@1.0.0"
    }
  },
  "nbformat": 4,
  "nbformat_minor": 2
}