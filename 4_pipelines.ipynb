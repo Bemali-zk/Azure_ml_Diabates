{
  "cells": [
    {
      "cell_type": "code",
      "source": [
        "from azure.ai.ml import MLClient, command, Input, Output, dsl\n",
        "from azure.ai.ml.constants import AssetTypes, InputOutputModes\n",
        "from azure.identity import DefaultAzureCredential\n",
        "\n",
        "# Initialize MLClient using DefaultAzureCredential\n",
        "ml_client = MLClient.from_config(credential=DefaultAzureCredential())\n",
        "\n",
        "data_asset = ml_client.data.get(\"Diabetes_Dataset\", version=\"1\")\n",
        "\n",
        "\n",
        "\n",
        "# Define the data preprocessing job\n",
        "data_preprocess_job = command(\n",
        "    code =\"./src\",# Path where the preprocess.py script is located\n",
        "    command='python data_preprocess.py --data \"${{inputs.data}}\" --output \"${{outputs.processed_data}}\"',\n",
        "    inputs={\n",
        "        \"data\": Input(\n",
        "            path=data_asset.id,\n",
        "            type=AssetTypes.URI_FILE,\n",
        "            mode=InputOutputModes.RO_MOUNT\n",
        "        )\n",
        "    },\n",
        "    outputs={\n",
        "        \"processed_data\": Output(\n",
        "            type=AssetTypes.URI_FILE,\n",
        "            mode=InputOutputModes.RW_MOUNT\n",
        "        )\n",
        "    },\n",
        "    environment=\"test-env-azureml:1\",# Ensure this environment has all required dependencies\n",
        "    compute=\"test-compute-1-mlstudio\",  \n",
        "      \n",
        ")\n",
        "\n",
        "# Define the model training job\n",
        "model_training_job = job = command(\n",
        "    code =\"./src\",# Path where the preprocess.py script is located\n",
        "    command='python train-model-mlflow.py --training_data \"${{inputs.data}}\" --model_output \"${{outputs.model_output}}\"',\n",
        "    inputs={\n",
        "        \"data\": Input(\n",
        "            type=AssetTypes.URI_FILE,\n",
        "            mode=InputOutputModes.RO_MOUNT\n",
        "        )\n",
        "    },\n",
        "    outputs={\n",
        "        \"model_output\": Output(\n",
        "            type=AssetTypes.MLFLOW_MODEL\n",
        "        )\n",
        "    },\n",
        "\n",
        "    \n",
        "    environment=\"test-env-azureml:1\",# Ensure this environment has all required dependencies\n",
        "    compute=\"test-compute-1-mlstudio\",)\n",
        "\n",
        "\n",
        "# Create a pipeline by combining the two jobs\n",
        "@dsl.pipeline(\n",
        "    description=\"Pipeline combining data preprocessing and model training\",\n",
        "    default_compute=\"test-compute-1-mlstudio\"\n",
        ")\n",
        "def training_pipeline():\n",
        "    preprocess_step = data_preprocess_job()\n",
        "    train_step = model_training_job(\n",
        "        data=preprocess_step.outputs.processed_data)\n",
        "    \n",
        "    return{\n",
        "        \"pipeline_job_transformed_data\": preprocess_step.outputs.processed_data,\n",
        "        \"pipeline_job_trained_model\": train_step.outputs.model_output,\n",
        "    }\n",
        "\n",
        "\n",
        "pipeline = training_pipeline()\n",
        "\n",
        "# Submit the pipeline to Azure ML\n",
        "pipeline_job = ml_client.jobs.create_or_update(pipeline)\n",
        "aml_url = pipeline_job.studio_url\n",
        "print(\"Monitor your pipeline at\", aml_url)\n"
      ],
      "outputs": [
        {
          "output_type": "stream",
          "name": "stderr",
          "text": "Found the config file in: /config.json\n"
        },
        {
          "output_type": "stream",
          "name": "stdout",
          "text": "Monitor your pipeline at https://ml.azure.com/runs/tough_pizza_rm07pbwbft?wsid=/subscriptions/3b7a65ed-df6d-4020-9010-5585f2149752/resourcegroups/rg-test-1/workspaces/mlstudio-test-1&tid=dc0b52a3-68c5-44f7-881d-9383d8850b96\n"
        }
      ],
      "execution_count": 4,
      "metadata": {
        "gather": {
          "logged": 1719887965571
        }
      }
    }
  ],
  "metadata": {
    "kernelspec": {
      "name": "python310-sdkv2",
      "language": "python",
      "display_name": "Python 3.10 - SDK v2"
    },
    "language_info": {
      "name": "python",
      "version": "3.10.11",
      "mimetype": "text/x-python",
      "codemirror_mode": {
        "name": "ipython",
        "version": 3
      },
      "pygments_lexer": "ipython3",
      "nbconvert_exporter": "python",
      "file_extension": ".py"
    },
    "microsoft": {
      "ms_spell_check": {
        "ms_spell_check_language": "en"
      },
      "host": {
        "AzureML": {
          "notebookHasBeenCompleted": true
        }
      }
    },
    "kernel_info": {
      "name": "python310-sdkv2"
    },
    "nteract": {
      "version": "nteract-front-end@1.0.0"
    }
  },
  "nbformat": 4,
  "nbformat_minor": 2
}